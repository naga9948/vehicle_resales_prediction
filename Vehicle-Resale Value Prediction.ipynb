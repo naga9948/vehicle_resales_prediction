{
 "cells": [
  {
   "cell_type": "markdown",
   "metadata": {},
   "source": [
    "# Importing Packages"
   ]
  },
  {
   "cell_type": "code",
   "execution_count": 1,
   "metadata": {
    "_cell_guid": "05930236-246c-c7c2-3903-bd8523fcddff",
    "_uuid": "66acdc51b78b5ec3e00a1386c93888acd6192992"
   },
   "outputs": [],
   "source": [
    "import pandas as pd\n",
    "\n",
    "import matplotlib.pyplot as plt\n",
    "import numpy as np\n",
    "from sklearn import datasets, linear_model, preprocessing, svm\n",
    "from sklearn.preprocessing import StandardScaler, Normalizer\n",
    "import math\n",
    "import matplotlib\n",
    "import seaborn as sns\n",
    "\n",
    "%matplotlib inline"
   ]
  },
  {
   "cell_type": "markdown",
   "metadata": {
    "_cell_guid": "7c971cfa-cbf1-76ef-2f6b-1aebe2e96b92",
    "_uuid": "1772de3005cac9188ed868615fb12e12d063250d"
   },
   "source": [
    "### Useful functions"
   ]
  },
  {
   "cell_type": "code",
   "execution_count": 2,
   "metadata": {
    "_cell_guid": "dcf55a0f-510f-a2ee-108f-8fa71852a1cc",
    "_uuid": "74ba1ae7154860b616474a566e5274a6c4336d65"
   },
   "outputs": [],
   "source": [
    "def category_values(dataframe, categories):\n",
    "    for c in categories:\n",
    "        print('\\n', dataframe.groupby(by=c)[c].count().sort_values(ascending=False))\n",
    "        print('Nulls: ', dataframe[c].isnull().sum())\n",
    "\n",
    "def plot_correlation_map( df ):\n",
    "    corr = df.corr()\n",
    "    _ , ax = plt.subplots( figsize =( 12 , 10 ) )\n",
    "    cmap = sns.diverging_palette( 220 , 10 , as_cmap = True )\n",
    "    _ = sns.heatmap(\n",
    "        corr, \n",
    "        cmap = cmap,\n",
    "        square=True, \n",
    "        cbar_kws={ 'shrink' : .9 }, \n",
    "        ax=ax, \n",
    "        annot = True, \n",
    "        annot_kws = { 'fontsize' : 12 }\n",
    "    )\n",
    "\n"
   ]
  },
  {
   "cell_type": "markdown",
   "metadata": {
    "_cell_guid": "ca01a4dc-9b43-196a-997d-21fc4e9118ba",
    "_uuid": "b70a976892e7f98cc0ea51173662f89038745655"
   },
   "source": [
    "# Preparing data\n",
    "\n",
    "## Reading from file"
   ]
  },
  {
   "cell_type": "code",
   "execution_count": 3,
   "metadata": {
    "_cell_guid": "a05292f8-9edf-4f27-2b61-4ca8d2aec1fc",
    "_uuid": "5dbf93047e52db1bd7f80baf092fa5ffbdc87f69"
   },
   "outputs": [
    {
     "data": {
      "text/html": [
       "<div>\n",
       "<style scoped>\n",
       "    .dataframe tbody tr th:only-of-type {\n",
       "        vertical-align: middle;\n",
       "    }\n",
       "\n",
       "    .dataframe tbody tr th {\n",
       "        vertical-align: top;\n",
       "    }\n",
       "\n",
       "    .dataframe thead th {\n",
       "        text-align: right;\n",
       "    }\n",
       "</style>\n",
       "<table border=\"1\" class=\"dataframe\">\n",
       "  <thead>\n",
       "    <tr style=\"text-align: right;\">\n",
       "      <th></th>\n",
       "      <th>dateCrawled</th>\n",
       "      <th>name</th>\n",
       "      <th>seller</th>\n",
       "      <th>offerType</th>\n",
       "      <th>price</th>\n",
       "      <th>abtest</th>\n",
       "      <th>vehicleType</th>\n",
       "      <th>yearOfRegistration</th>\n",
       "      <th>gearbox</th>\n",
       "      <th>powerPS</th>\n",
       "      <th>model</th>\n",
       "      <th>kilometer</th>\n",
       "      <th>monthOfRegistration</th>\n",
       "      <th>fuelType</th>\n",
       "      <th>brand</th>\n",
       "      <th>notRepairedDamage</th>\n",
       "      <th>dateCreated</th>\n",
       "      <th>nrOfPictures</th>\n",
       "      <th>postalCode</th>\n",
       "      <th>lastSeen</th>\n",
       "    </tr>\n",
       "  </thead>\n",
       "  <tbody>\n",
       "    <tr>\n",
       "      <th>33117</th>\n",
       "      <td>2016-03-19 21:36:21</td>\n",
       "      <td>Schoener_Golf_Variant</td>\n",
       "      <td>privat</td>\n",
       "      <td>Angebot</td>\n",
       "      <td>18700</td>\n",
       "      <td>control</td>\n",
       "      <td>NaN</td>\n",
       "      <td>2017</td>\n",
       "      <td>manuell</td>\n",
       "      <td>150</td>\n",
       "      <td>golf</td>\n",
       "      <td>30000</td>\n",
       "      <td>6</td>\n",
       "      <td>NaN</td>\n",
       "      <td>volkswagen</td>\n",
       "      <td>nein</td>\n",
       "      <td>2016-03-19 00:00:00</td>\n",
       "      <td>0</td>\n",
       "      <td>26802</td>\n",
       "      <td>2016-03-23 12:19:44</td>\n",
       "    </tr>\n",
       "    <tr>\n",
       "      <th>289080</th>\n",
       "      <td>2016-03-19 07:54:21</td>\n",
       "      <td>BMW_e36_316i</td>\n",
       "      <td>privat</td>\n",
       "      <td>Angebot</td>\n",
       "      <td>800</td>\n",
       "      <td>control</td>\n",
       "      <td>limousine</td>\n",
       "      <td>1993</td>\n",
       "      <td>manuell</td>\n",
       "      <td>101</td>\n",
       "      <td>NaN</td>\n",
       "      <td>150000</td>\n",
       "      <td>5</td>\n",
       "      <td>benzin</td>\n",
       "      <td>bmw</td>\n",
       "      <td>nein</td>\n",
       "      <td>2016-03-19 00:00:00</td>\n",
       "      <td>0</td>\n",
       "      <td>86836</td>\n",
       "      <td>2016-04-06 06:16:38</td>\n",
       "    </tr>\n",
       "    <tr>\n",
       "      <th>293451</th>\n",
       "      <td>2016-03-31 18:47:02</td>\n",
       "      <td>Audi_A6_2.5TDI___defekt</td>\n",
       "      <td>privat</td>\n",
       "      <td>Angebot</td>\n",
       "      <td>800</td>\n",
       "      <td>control</td>\n",
       "      <td>limousine</td>\n",
       "      <td>2001</td>\n",
       "      <td>manuell</td>\n",
       "      <td>149</td>\n",
       "      <td>a6</td>\n",
       "      <td>150000</td>\n",
       "      <td>4</td>\n",
       "      <td>diesel</td>\n",
       "      <td>audi</td>\n",
       "      <td>ja</td>\n",
       "      <td>2016-03-31 00:00:00</td>\n",
       "      <td>0</td>\n",
       "      <td>55595</td>\n",
       "      <td>2016-03-31 18:47:02</td>\n",
       "    </tr>\n",
       "    <tr>\n",
       "      <th>10397</th>\n",
       "      <td>2016-03-11 12:47:58</td>\n",
       "      <td>BMW_330d_DPF__XENON__HIFI__SPORTSITZE__M_FAHRWERK</td>\n",
       "      <td>privat</td>\n",
       "      <td>Angebot</td>\n",
       "      <td>13000</td>\n",
       "      <td>test</td>\n",
       "      <td>limousine</td>\n",
       "      <td>2011</td>\n",
       "      <td>manuell</td>\n",
       "      <td>245</td>\n",
       "      <td>3er</td>\n",
       "      <td>150000</td>\n",
       "      <td>4</td>\n",
       "      <td>diesel</td>\n",
       "      <td>bmw</td>\n",
       "      <td>nein</td>\n",
       "      <td>2016-03-11 00:00:00</td>\n",
       "      <td>0</td>\n",
       "      <td>50739</td>\n",
       "      <td>2016-04-07 06:45:02</td>\n",
       "    </tr>\n",
       "    <tr>\n",
       "      <th>37554</th>\n",
       "      <td>2016-03-29 22:47:57</td>\n",
       "      <td>Mercedes_Benz_E_320</td>\n",
       "      <td>privat</td>\n",
       "      <td>Angebot</td>\n",
       "      <td>1700</td>\n",
       "      <td>test</td>\n",
       "      <td>limousine</td>\n",
       "      <td>1995</td>\n",
       "      <td>automatik</td>\n",
       "      <td>220</td>\n",
       "      <td>e_klasse</td>\n",
       "      <td>150000</td>\n",
       "      <td>11</td>\n",
       "      <td>benzin</td>\n",
       "      <td>mercedes_benz</td>\n",
       "      <td>nein</td>\n",
       "      <td>2016-03-29 00:00:00</td>\n",
       "      <td>0</td>\n",
       "      <td>32758</td>\n",
       "      <td>2016-04-06 10:45:36</td>\n",
       "    </tr>\n",
       "    <tr>\n",
       "      <th>262635</th>\n",
       "      <td>2016-03-08 10:56:31</td>\n",
       "      <td>Mercedes_Benz_R_300_CDI_DPF_BlueEFFICIENCY_7G_...</td>\n",
       "      <td>privat</td>\n",
       "      <td>Angebot</td>\n",
       "      <td>32850</td>\n",
       "      <td>test</td>\n",
       "      <td>bus</td>\n",
       "      <td>2012</td>\n",
       "      <td>automatik</td>\n",
       "      <td>190</td>\n",
       "      <td>andere</td>\n",
       "      <td>60000</td>\n",
       "      <td>12</td>\n",
       "      <td>diesel</td>\n",
       "      <td>mercedes_benz</td>\n",
       "      <td>nein</td>\n",
       "      <td>2016-03-08 00:00:00</td>\n",
       "      <td>0</td>\n",
       "      <td>10707</td>\n",
       "      <td>2016-03-30 17:15:23</td>\n",
       "    </tr>\n",
       "    <tr>\n",
       "      <th>93140</th>\n",
       "      <td>2016-03-22 19:53:22</td>\n",
       "      <td>Volkswagen_Golf_Variant_1.9_TDI_Edition</td>\n",
       "      <td>privat</td>\n",
       "      <td>Angebot</td>\n",
       "      <td>1950</td>\n",
       "      <td>test</td>\n",
       "      <td>kombi</td>\n",
       "      <td>2000</td>\n",
       "      <td>manuell</td>\n",
       "      <td>90</td>\n",
       "      <td>golf</td>\n",
       "      <td>150000</td>\n",
       "      <td>8</td>\n",
       "      <td>diesel</td>\n",
       "      <td>volkswagen</td>\n",
       "      <td>nein</td>\n",
       "      <td>2016-03-22 00:00:00</td>\n",
       "      <td>0</td>\n",
       "      <td>30455</td>\n",
       "      <td>2016-03-24 04:46:46</td>\n",
       "    </tr>\n",
       "    <tr>\n",
       "      <th>23619</th>\n",
       "      <td>2016-03-19 18:54:12</td>\n",
       "      <td>Smart_smart_&amp;_pure</td>\n",
       "      <td>privat</td>\n",
       "      <td>Angebot</td>\n",
       "      <td>1199</td>\n",
       "      <td>test</td>\n",
       "      <td>kleinwagen</td>\n",
       "      <td>1999</td>\n",
       "      <td>manuell</td>\n",
       "      <td>45</td>\n",
       "      <td>fortwo</td>\n",
       "      <td>150000</td>\n",
       "      <td>10</td>\n",
       "      <td>benzin</td>\n",
       "      <td>smart</td>\n",
       "      <td>nein</td>\n",
       "      <td>2016-03-19 00:00:00</td>\n",
       "      <td>0</td>\n",
       "      <td>94148</td>\n",
       "      <td>2016-04-07 06:16:37</td>\n",
       "    </tr>\n",
       "    <tr>\n",
       "      <th>182367</th>\n",
       "      <td>2016-03-08 04:00:04</td>\n",
       "      <td>VW_Passat_1_6_FSI_Baujahr_10/2006</td>\n",
       "      <td>privat</td>\n",
       "      <td>Angebot</td>\n",
       "      <td>5500</td>\n",
       "      <td>control</td>\n",
       "      <td>limousine</td>\n",
       "      <td>2006</td>\n",
       "      <td>manuell</td>\n",
       "      <td>116</td>\n",
       "      <td>passat</td>\n",
       "      <td>150000</td>\n",
       "      <td>10</td>\n",
       "      <td>benzin</td>\n",
       "      <td>volkswagen</td>\n",
       "      <td>nein</td>\n",
       "      <td>2016-03-08 00:00:00</td>\n",
       "      <td>0</td>\n",
       "      <td>46537</td>\n",
       "      <td>2016-03-09 06:16:58</td>\n",
       "    </tr>\n",
       "    <tr>\n",
       "      <th>172621</th>\n",
       "      <td>2016-03-07 21:52:37</td>\n",
       "      <td>Mein_geliebtes_Kadett_GSI_Cabrio</td>\n",
       "      <td>privat</td>\n",
       "      <td>Angebot</td>\n",
       "      <td>3000</td>\n",
       "      <td>control</td>\n",
       "      <td>cabrio</td>\n",
       "      <td>1991</td>\n",
       "      <td>manuell</td>\n",
       "      <td>150</td>\n",
       "      <td>kadett</td>\n",
       "      <td>150000</td>\n",
       "      <td>7</td>\n",
       "      <td>benzin</td>\n",
       "      <td>opel</td>\n",
       "      <td>nein</td>\n",
       "      <td>2016-03-07 00:00:00</td>\n",
       "      <td>0</td>\n",
       "      <td>12627</td>\n",
       "      <td>2016-04-06 03:45:51</td>\n",
       "    </tr>\n",
       "  </tbody>\n",
       "</table>\n",
       "</div>"
      ],
      "text/plain": [
       "                dateCrawled  \\\n",
       "33117   2016-03-19 21:36:21   \n",
       "289080  2016-03-19 07:54:21   \n",
       "293451  2016-03-31 18:47:02   \n",
       "10397   2016-03-11 12:47:58   \n",
       "37554   2016-03-29 22:47:57   \n",
       "262635  2016-03-08 10:56:31   \n",
       "93140   2016-03-22 19:53:22   \n",
       "23619   2016-03-19 18:54:12   \n",
       "182367  2016-03-08 04:00:04   \n",
       "172621  2016-03-07 21:52:37   \n",
       "\n",
       "                                                     name  seller offerType  \\\n",
       "33117                               Schoener_Golf_Variant  privat   Angebot   \n",
       "289080                                       BMW_e36_316i  privat   Angebot   \n",
       "293451                            Audi_A6_2.5TDI___defekt  privat   Angebot   \n",
       "10397   BMW_330d_DPF__XENON__HIFI__SPORTSITZE__M_FAHRWERK  privat   Angebot   \n",
       "37554                                 Mercedes_Benz_E_320  privat   Angebot   \n",
       "262635  Mercedes_Benz_R_300_CDI_DPF_BlueEFFICIENCY_7G_...  privat   Angebot   \n",
       "93140             Volkswagen_Golf_Variant_1.9_TDI_Edition  privat   Angebot   \n",
       "23619                                  Smart_smart_&_pure  privat   Angebot   \n",
       "182367                  VW_Passat_1_6_FSI_Baujahr_10/2006  privat   Angebot   \n",
       "172621                   Mein_geliebtes_Kadett_GSI_Cabrio  privat   Angebot   \n",
       "\n",
       "        price   abtest vehicleType  yearOfRegistration    gearbox  powerPS  \\\n",
       "33117   18700  control         NaN                2017    manuell      150   \n",
       "289080    800  control   limousine                1993    manuell      101   \n",
       "293451    800  control   limousine                2001    manuell      149   \n",
       "10397   13000     test   limousine                2011    manuell      245   \n",
       "37554    1700     test   limousine                1995  automatik      220   \n",
       "262635  32850     test         bus                2012  automatik      190   \n",
       "93140    1950     test       kombi                2000    manuell       90   \n",
       "23619    1199     test  kleinwagen                1999    manuell       45   \n",
       "182367   5500  control   limousine                2006    manuell      116   \n",
       "172621   3000  control      cabrio                1991    manuell      150   \n",
       "\n",
       "           model  kilometer  monthOfRegistration fuelType          brand  \\\n",
       "33117       golf      30000                    6      NaN     volkswagen   \n",
       "289080       NaN     150000                    5   benzin            bmw   \n",
       "293451        a6     150000                    4   diesel           audi   \n",
       "10397        3er     150000                    4   diesel            bmw   \n",
       "37554   e_klasse     150000                   11   benzin  mercedes_benz   \n",
       "262635    andere      60000                   12   diesel  mercedes_benz   \n",
       "93140       golf     150000                    8   diesel     volkswagen   \n",
       "23619     fortwo     150000                   10   benzin          smart   \n",
       "182367    passat     150000                   10   benzin     volkswagen   \n",
       "172621    kadett     150000                    7   benzin           opel   \n",
       "\n",
       "       notRepairedDamage          dateCreated  nrOfPictures  postalCode  \\\n",
       "33117               nein  2016-03-19 00:00:00             0       26802   \n",
       "289080              nein  2016-03-19 00:00:00             0       86836   \n",
       "293451                ja  2016-03-31 00:00:00             0       55595   \n",
       "10397               nein  2016-03-11 00:00:00             0       50739   \n",
       "37554               nein  2016-03-29 00:00:00             0       32758   \n",
       "262635              nein  2016-03-08 00:00:00             0       10707   \n",
       "93140               nein  2016-03-22 00:00:00             0       30455   \n",
       "23619               nein  2016-03-19 00:00:00             0       94148   \n",
       "182367              nein  2016-03-08 00:00:00             0       46537   \n",
       "172621              nein  2016-03-07 00:00:00             0       12627   \n",
       "\n",
       "                   lastSeen  \n",
       "33117   2016-03-23 12:19:44  \n",
       "289080  2016-04-06 06:16:38  \n",
       "293451  2016-03-31 18:47:02  \n",
       "10397   2016-04-07 06:45:02  \n",
       "37554   2016-04-06 10:45:36  \n",
       "262635  2016-03-30 17:15:23  \n",
       "93140   2016-03-24 04:46:46  \n",
       "23619   2016-04-07 06:16:37  \n",
       "182367  2016-03-09 06:16:58  \n",
       "172621  2016-04-06 03:45:51  "
      ]
     },
     "execution_count": 3,
     "metadata": {},
     "output_type": "execute_result"
    }
   ],
   "source": [
    "df = pd.read_csv('autos.csv', sep=',', header=0, encoding='cp1252')\n",
    "#df = pd.read_csv('autos.csv.gz', sep=',', header=0, compression='gzip',encoding='cp1252')\n",
    "df.sample(10)"
   ]
  },
  {
   "cell_type": "code",
   "execution_count": 4,
   "metadata": {
    "_cell_guid": "561a67e9-6272-0f46-82a6-1c1a8ba2aebc",
    "_uuid": "788db071fab57c35b3db6e4298ca87f8f0d2ad65"
   },
   "outputs": [
    {
     "data": {
      "text/html": [
       "<div>\n",
       "<style scoped>\n",
       "    .dataframe tbody tr th:only-of-type {\n",
       "        vertical-align: middle;\n",
       "    }\n",
       "\n",
       "    .dataframe tbody tr th {\n",
       "        vertical-align: top;\n",
       "    }\n",
       "\n",
       "    .dataframe thead th {\n",
       "        text-align: right;\n",
       "    }\n",
       "</style>\n",
       "<table border=\"1\" class=\"dataframe\">\n",
       "  <thead>\n",
       "    <tr style=\"text-align: right;\">\n",
       "      <th></th>\n",
       "      <th>price</th>\n",
       "      <th>yearOfRegistration</th>\n",
       "      <th>powerPS</th>\n",
       "      <th>kilometer</th>\n",
       "      <th>monthOfRegistration</th>\n",
       "      <th>nrOfPictures</th>\n",
       "      <th>postalCode</th>\n",
       "    </tr>\n",
       "  </thead>\n",
       "  <tbody>\n",
       "    <tr>\n",
       "      <th>count</th>\n",
       "      <td>3.715280e+05</td>\n",
       "      <td>371528.000000</td>\n",
       "      <td>371528.000000</td>\n",
       "      <td>371528.000000</td>\n",
       "      <td>371528.000000</td>\n",
       "      <td>371528.0</td>\n",
       "      <td>371528.00000</td>\n",
       "    </tr>\n",
       "    <tr>\n",
       "      <th>mean</th>\n",
       "      <td>1.729514e+04</td>\n",
       "      <td>2004.577997</td>\n",
       "      <td>115.549477</td>\n",
       "      <td>125618.688228</td>\n",
       "      <td>5.734445</td>\n",
       "      <td>0.0</td>\n",
       "      <td>50820.66764</td>\n",
       "    </tr>\n",
       "    <tr>\n",
       "      <th>std</th>\n",
       "      <td>3.587954e+06</td>\n",
       "      <td>92.866598</td>\n",
       "      <td>192.139578</td>\n",
       "      <td>40112.337051</td>\n",
       "      <td>3.712412</td>\n",
       "      <td>0.0</td>\n",
       "      <td>25799.08247</td>\n",
       "    </tr>\n",
       "    <tr>\n",
       "      <th>min</th>\n",
       "      <td>0.000000e+00</td>\n",
       "      <td>1000.000000</td>\n",
       "      <td>0.000000</td>\n",
       "      <td>5000.000000</td>\n",
       "      <td>0.000000</td>\n",
       "      <td>0.0</td>\n",
       "      <td>1067.00000</td>\n",
       "    </tr>\n",
       "    <tr>\n",
       "      <th>25%</th>\n",
       "      <td>1.150000e+03</td>\n",
       "      <td>1999.000000</td>\n",
       "      <td>70.000000</td>\n",
       "      <td>125000.000000</td>\n",
       "      <td>3.000000</td>\n",
       "      <td>0.0</td>\n",
       "      <td>30459.00000</td>\n",
       "    </tr>\n",
       "    <tr>\n",
       "      <th>50%</th>\n",
       "      <td>2.950000e+03</td>\n",
       "      <td>2003.000000</td>\n",
       "      <td>105.000000</td>\n",
       "      <td>150000.000000</td>\n",
       "      <td>6.000000</td>\n",
       "      <td>0.0</td>\n",
       "      <td>49610.00000</td>\n",
       "    </tr>\n",
       "    <tr>\n",
       "      <th>75%</th>\n",
       "      <td>7.200000e+03</td>\n",
       "      <td>2008.000000</td>\n",
       "      <td>150.000000</td>\n",
       "      <td>150000.000000</td>\n",
       "      <td>9.000000</td>\n",
       "      <td>0.0</td>\n",
       "      <td>71546.00000</td>\n",
       "    </tr>\n",
       "    <tr>\n",
       "      <th>max</th>\n",
       "      <td>2.147484e+09</td>\n",
       "      <td>9999.000000</td>\n",
       "      <td>20000.000000</td>\n",
       "      <td>150000.000000</td>\n",
       "      <td>12.000000</td>\n",
       "      <td>0.0</td>\n",
       "      <td>99998.00000</td>\n",
       "    </tr>\n",
       "  </tbody>\n",
       "</table>\n",
       "</div>"
      ],
      "text/plain": [
       "              price  yearOfRegistration        powerPS      kilometer  \\\n",
       "count  3.715280e+05       371528.000000  371528.000000  371528.000000   \n",
       "mean   1.729514e+04         2004.577997     115.549477  125618.688228   \n",
       "std    3.587954e+06           92.866598     192.139578   40112.337051   \n",
       "min    0.000000e+00         1000.000000       0.000000    5000.000000   \n",
       "25%    1.150000e+03         1999.000000      70.000000  125000.000000   \n",
       "50%    2.950000e+03         2003.000000     105.000000  150000.000000   \n",
       "75%    7.200000e+03         2008.000000     150.000000  150000.000000   \n",
       "max    2.147484e+09         9999.000000   20000.000000  150000.000000   \n",
       "\n",
       "       monthOfRegistration  nrOfPictures    postalCode  \n",
       "count        371528.000000      371528.0  371528.00000  \n",
       "mean              5.734445           0.0   50820.66764  \n",
       "std               3.712412           0.0   25799.08247  \n",
       "min               0.000000           0.0    1067.00000  \n",
       "25%               3.000000           0.0   30459.00000  \n",
       "50%               6.000000           0.0   49610.00000  \n",
       "75%               9.000000           0.0   71546.00000  \n",
       "max              12.000000           0.0   99998.00000  "
      ]
     },
     "execution_count": 4,
     "metadata": {},
     "output_type": "execute_result"
    }
   ],
   "source": [
    "df.describe()"
   ]
  },
  {
   "cell_type": "markdown",
   "metadata": {
    "_cell_guid": "11a1ae56-5b63-8dac-ca19-625bd6595c6c",
    "_uuid": "7691b4f5405e78545bd640fa9713fa2b2de40a95"
   },
   "source": [
    "# Dropping some useless columns\n"
   ]
  },
  {
   "cell_type": "code",
   "execution_count": 5,
   "metadata": {
    "_cell_guid": "da977c90-95e1-69df-87dd-fdd5c8ea0f8e",
    "_uuid": "fce901fb0490627c754f596bda0bbe2016bd1609"
   },
   "outputs": [
    {
     "name": "stdout",
     "output_type": "stream",
     "text": [
      "['privat' 'gewerblich']\n",
      "['Angebot' 'Gesuch']\n",
      "['test' 'control']\n",
      "[0]\n"
     ]
    }
   ],
   "source": [
    "print(df.seller.unique())\n",
    "print(df.offerType.unique())\n",
    "print(df.abtest.unique())\n",
    "print(df.nrOfPictures.unique())"
   ]
  },
  {
   "cell_type": "code",
   "execution_count": 6,
   "metadata": {
    "_cell_guid": "c0933c6b-9341-66a0-490d-ed3475e90f32",
    "_uuid": "159858ce5411a8eaacf7d84bea006c3fead7c53a"
   },
   "outputs": [],
   "source": [
    "df.drop(['seller', 'offerType', 'abtest', 'dateCrawled', 'nrOfPictures', 'lastSeen', 'postalCode', 'dateCreated'], axis='columns', inplace=True)\n"
   ]
  },
  {
   "cell_type": "markdown",
   "metadata": {
    "_cell_guid": "d1acc41d-86ff-9d61-68cc-e399b9cd2ebc",
    "_uuid": "2beb43c5f75b4963dfc4810d3e3fcbffb76878ef"
   },
   "source": [
    "## Cleaning data\n",
    "\n",
    "Cleaning data from duplicates, NaNs and selecting reasonable ranges for columns\n"
   ]
  },
  {
   "cell_type": "code",
   "execution_count": 7,
   "metadata": {
    "_cell_guid": "a2e2e1ef-9202-e2e4-c754-5a744abc0b87",
    "_uuid": "0a241a6a5b88ef7be2c5bf498a640f79f067988a"
   },
   "outputs": [
    {
     "name": "stdout",
     "output_type": "stream",
     "text": [
      "Too new: 14680\n",
      "Too old: 289\n",
      "Too cheap: 13320\n",
      "Too expensive:  232\n",
      "Too few km:  0\n",
      "Too many km:  0\n",
      "Too few PS:  41040\n",
      "Too many PS:  835\n",
      "Fuel types:  ['benzin' 'diesel' nan 'lpg' 'andere' 'hybrid' 'cng' 'elektro']\n",
      "Damages:  [nan 'ja' 'nein']\n",
      "Vehicle types:  [nan 'coupe' 'suv' 'kleinwagen' 'limousine' 'cabrio' 'bus' 'kombi'\n",
      " 'andere']\n",
      "Brands:  ['volkswagen' 'audi' 'jeep' 'skoda' 'bmw' 'peugeot' 'ford' 'mazda'\n",
      " 'nissan' 'renault' 'mercedes_benz' 'opel' 'seat' 'citroen' 'honda' 'fiat'\n",
      " 'mini' 'smart' 'hyundai' 'sonstige_autos' 'alfa_romeo' 'subaru' 'volvo'\n",
      " 'mitsubishi' 'kia' 'suzuki' 'lancia' 'porsche' 'toyota' 'chevrolet'\n",
      " 'dacia' 'daihatsu' 'trabant' 'saab' 'chrysler' 'jaguar' 'daewoo' 'rover'\n",
      " 'land_rover' 'lada']\n",
      "-----------------\n",
      "Data kept for analisys: 81 percent of the entire set\n",
      "-----------------\n"
     ]
    }
   ],
   "source": [
    "print(\"Too new: %d\" % df.loc[df.yearOfRegistration >= 2017].count()['name'])\n",
    "print(\"Too old: %d\" % df.loc[df.yearOfRegistration < 1950].count()['name'])\n",
    "print(\"Too cheap: %d\" % df.loc[df.price < 100].count()['name'])\n",
    "print(\"Too expensive: \" , df.loc[df.price > 150000].count()['name'])\n",
    "print(\"Too few km: \" , df.loc[df.kilometer < 5000].count()['name'])\n",
    "print(\"Too many km: \" , df.loc[df.kilometer > 200000].count()['name'])\n",
    "print(\"Too few PS: \" , df.loc[df.powerPS < 10].count()['name'])\n",
    "print(\"Too many PS: \" , df.loc[df.powerPS > 500].count()['name'])\n",
    "print(\"Fuel types: \" , df['fuelType'].unique())\n",
    "#print(\"Offer types: \" , df['offerType'].unique())\n",
    "#print(\"Sellers: \" , df['seller'].unique())\n",
    "print(\"Damages: \" , df['notRepairedDamage'].unique())\n",
    "#print(\"Pics: \" , df['nrOfPictures'].unique()) # nrOfPictures : number of pictures in the ad (unfortunately this field contains everywhere a 0 and is thus useless (bug in crawler!) )\n",
    "#print(\"Postale codes: \" , df['postalCode'].unique())\n",
    "print(\"Vehicle types: \" , df['vehicleType'].unique())\n",
    "print(\"Brands: \" , df['brand'].unique())\n",
    "\n",
    "# Cleaning data\n",
    "#valid_models = df.dropna()\n",
    "\n",
    "#### Removing the duplicates\n",
    "dedups = df.drop_duplicates(['name','price','vehicleType','yearOfRegistration'\n",
    "                         ,'gearbox','powerPS','model','kilometer','monthOfRegistration','fuelType'\n",
    "                         ,'notRepairedDamage'])\n",
    "\n",
    "#### Removing the outliers\n",
    "dedups = dedups[\n",
    "        (dedups.yearOfRegistration <= 2016) \n",
    "      & (dedups.yearOfRegistration >= 1950) \n",
    "      & (dedups.price >= 100) \n",
    "      & (dedups.price <= 150000) \n",
    "      & (dedups.powerPS >= 10) \n",
    "      & (dedups.powerPS <= 500)]\n",
    "\n",
    "print(\"-----------------\\nData kept for analisys: %d percent of the entire set\\n-----------------\" % (100 * dedups['name'].count() / df['name'].count()))\n"
   ]
  },
  {
   "cell_type": "markdown",
   "metadata": {
    "_cell_guid": "588fec19-051c-86e4-ca61-d7aa199a22fa",
    "_uuid": "69f0f58445a0888637047577237308b19bfa1360"
   },
   "source": [
    "## Working on the `null` values\n",
    "\n",
    "Checking if theree are NaNs to fix or drop"
   ]
  },
  {
   "cell_type": "code",
   "execution_count": 8,
   "metadata": {
    "_cell_guid": "790ed518-f40a-b1af-dd98-e5bfe9d27bab",
    "_uuid": "f742c98ca4727b300ae2e043369ddcb6059885dc"
   },
   "outputs": [
    {
     "data": {
      "text/plain": [
       "name                       0\n",
       "price                      0\n",
       "vehicleType            10818\n",
       "yearOfRegistration         0\n",
       "gearbox                 5260\n",
       "powerPS                    0\n",
       "model                  11347\n",
       "kilometer                  0\n",
       "monthOfRegistration        0\n",
       "fuelType               15400\n",
       "brand                      0\n",
       "notRepairedDamage      42124\n",
       "dtype: int64"
      ]
     },
     "execution_count": 8,
     "metadata": {},
     "output_type": "execute_result"
    }
   ],
   "source": [
    "dedups.isnull().sum()"
   ]
  },
  {
   "cell_type": "code",
   "execution_count": 9,
   "metadata": {
    "_cell_guid": "b2db3fcb-4ef8-cf67-9e8a-eb10cd47dda3",
    "_uuid": "dbb55dac9e6fb60680e3375e4b1f21f3fcc18bba"
   },
   "outputs": [],
   "source": [
    "dedups['notRepairedDamage'].fillna(value='not-declared', inplace=True)\n",
    "dedups['fuelType'].fillna(value='not-declared', inplace=True)\n",
    "dedups['gearbox'].fillna(value='not-declared', inplace=True)\n",
    "dedups['vehicleType'].fillna(value='not-declared', inplace=True)\n",
    "dedups['model'].fillna(value='not-declared', inplace=True)"
   ]
  },
  {
   "cell_type": "markdown",
   "metadata": {
    "_cell_guid": "2d57c352-d229-4e02-fcbe-bc9cbc2c5d87",
    "_uuid": "7d017e25b9cf00ff9a6365e424640ae6e4845022"
   },
   "source": [
    "Checking if all the nulls have been filled or dropped."
   ]
  },
  {
   "cell_type": "code",
   "execution_count": 10,
   "metadata": {
    "_cell_guid": "7e181607-6ada-fef6-8ca7-228acb4be82c",
    "_uuid": "2e0cb4600a320d26e74903293ebe3129890f35dd"
   },
   "outputs": [
    {
     "data": {
      "text/plain": [
       "name                   0\n",
       "price                  0\n",
       "vehicleType            0\n",
       "yearOfRegistration     0\n",
       "gearbox                0\n",
       "powerPS                0\n",
       "model                  0\n",
       "kilometer              0\n",
       "monthOfRegistration    0\n",
       "fuelType               0\n",
       "brand                  0\n",
       "notRepairedDamage      0\n",
       "dtype: int64"
      ]
     },
     "execution_count": 10,
     "metadata": {},
     "output_type": "execute_result"
    }
   ],
   "source": [
    "dedups.isnull().sum()"
   ]
  },
  {
   "cell_type": "markdown",
   "metadata": {
    "_cell_guid": "0c3a8615-6bbd-3ed1-8103-ce5facb7e1e9",
    "_uuid": "dd740cfebc0375ef63bf8e1ef48aabe4d0ff636a"
   },
   "source": [
    "OK, we're clear. Let's do some visualization now."
   ]
  },
  {
   "cell_type": "markdown",
   "metadata": {
    "_cell_guid": "6ce21684-6568-8885-6acb-788d8ae014cb",
    "_uuid": "4a59d29449b07ea0651d4f680cdc4fab637e3704"
   },
   "source": [
    "## Visualizations\n",
    "### Categories distribution\n",
    "Let's see some charts to understand how data is distributed across the categories"
   ]
  },
  {
   "cell_type": "code",
   "execution_count": 11,
   "metadata": {
    "_cell_guid": "a4bb7198-21bb-c55b-0b40-87a1b4862a89",
    "_uuid": "c2bc946f4608a170f8e93401e3b03cf60b8acdfe"
   },
   "outputs": [
    {
     "name": "stdout",
     "output_type": "stream",
     "text": [
      "gearbox\n",
      "manuell         231997\n",
      "automatik        66876\n",
      "not-declared      5260\n",
      "Name: gearbox, dtype: int64\n"
     ]
    },
    {
     "data": {
      "image/png": "[encoded data removed]",
      "text/plain": [
       "<Figure size 360x216 with 1 Axes>"
      ]
     },
     "metadata": {},
     "output_type": "display_data"
    },
    {
     "name": "stdout",
     "output_type": "stream",
     "text": [
      "model\n",
      "golf            24846\n",
      "andere          21733\n",
      "3er             17704\n",
      "not-declared    11347\n",
      "polo            10477\n",
      "Name: model, dtype: int64\n"
     ]
    },
    {
     "data": {
      "image/png": "[encoded data removed]",
      "text/plain": [
       "<Figure size 360x216 with 1 Axes>"
      ]
     },
     "metadata": {},
     "output_type": "display_data"
    },
    {
     "name": "stdout",
     "output_type": "stream",
     "text": [
      "brand\n",
      "volkswagen       64853\n",
      "bmw              34441\n",
      "opel             31757\n",
      "mercedes_benz    29562\n",
      "audi             27984\n",
      "Name: brand, dtype: int64\n"
     ]
    },
    {
     "data": {
      "image/png": "[encoded data removed]",
      "text/plain": [
       "<Figure size 360x216 with 1 Axes>"
      ]
     },
     "metadata": {},
     "output_type": "display_data"
    },
    {
     "name": "stdout",
     "output_type": "stream",
     "text": [
      "vehicleType\n",
      "limousine     84843\n",
      "kleinwagen    68415\n",
      "kombi         59863\n",
      "bus           26986\n",
      "cabrio        20921\n",
      "Name: vehicleType, dtype: int64\n"
     ]
    },
    {
     "data": {
      "image/png": "[encoded data removed]",
      "text/plain": [
       "<Figure size 360x216 with 1 Axes>"
      ]
     },
     "metadata": {},
     "output_type": "display_data"
    },
    {
     "name": "stdout",
     "output_type": "stream",
     "text": [
      "fuelType\n",
      "benzin          189919\n",
      "diesel           93299\n",
      "not-declared     15400\n",
      "lpg               4646\n",
      "cng                474\n",
      "Name: fuelType, dtype: int64\n"
     ]
    },
    {
     "data": {
      "image/png": "[encoded data removed]",
      "text/plain": [
       "<Figure size 360x216 with 1 Axes>"
      ]
     },
     "metadata": {},
     "output_type": "display_data"
    },
    {
     "name": "stdout",
     "output_type": "stream",
     "text": [
      "notRepairedDamage\n",
      "nein            233684\n",
      "not-declared     42124\n",
      "ja               28325\n",
      "Name: notRepairedDamage, dtype: int64\n"
     ]
    },
    {
     "data": {
      "image/png": "[encoded data removed]",
      "text/plain": [
       "<Figure size 360x216 with 1 Axes>"
      ]
     },
     "metadata": {},
     "output_type": "display_data"
    }
   ],
   "source": [
    "categories = ['gearbox', 'model', 'brand', 'vehicleType', 'fuelType', 'notRepairedDamage']\n",
    "\n",
    "for i, c in enumerate(categories):\n",
    "    v = dedups[c].unique()\n",
    "    \n",
    "    g = dedups.groupby(by=c)[c].count().sort_values(ascending=False)\n",
    "    r = range(min(len(v), 5))\n",
    "\n",
    "    print( g.head())\n",
    "    plt.figure(figsize=(5,3))\n",
    "    plt.bar(r, g.head()) \n",
    "    #plt.xticks(r, v)\n",
    "    plt.xticks(r, g.index)\n",
    "    plt.show()"
   ]
  },
  {
   "cell_type": "markdown",
   "metadata": {
    "_cell_guid": "a982dc85-18b2-25e1-ee41-aa25c97e1e98",
    "_uuid": "582403a8c279ed9bfdeb480f015d4ac18065b596"
   },
   "source": [
    "### Feature engineering"
   ]
  },
  {
   "cell_type": "markdown",
   "metadata": {
    "_cell_guid": "401b272f-04eb-941a-e638-9e4f9f1aba85",
    "_uuid": "92c433cc3779e095ff59886cc96447f2da416483"
   },
   "source": [
    "Adding the name length to see how much does a long description influence the price"
   ]
  },
  {
   "cell_type": "code",
   "execution_count": 12,
   "metadata": {
    "_cell_guid": "ea7d69c6-201a-15ec-e2a4-cb4ab61607fb",
    "_uuid": "80868acdf52f07cded33cc1b4724bb65e1223b23"
   },
   "outputs": [
    {
     "name": "stderr",
     "output_type": "stream",
     "text": [
      "C:\\Users\\Dell\\Anaconda3\\lib\\site-packages\\matplotlib\\axes\\_axes.py:6462: UserWarning: The 'normed' kwarg is deprecated, and has been replaced by the 'density' kwarg.\n",
      "  warnings.warn(\"The 'normed' kwarg is deprecated, and has been \"\n",
      "C:\\Users\\Dell\\Anaconda3\\lib\\site-packages\\matplotlib\\axes\\_axes.py:6462: UserWarning: The 'normed' kwarg is deprecated, and has been replaced by the 'density' kwarg.\n",
      "  warnings.warn(\"The 'normed' kwarg is deprecated, and has been \"\n"
     ]
    },
    {
     "data": {
      "image/png": "[encoded data removed]",
      "text/plain": [
       "<Figure size 576x576 with 3 Axes>"
      ]
     },
     "metadata": {},
     "output_type": "display_data"
    }
   ],
   "source": [
    "dedups['namelen'] = [min(70, len(n)) for n in dedups['name']]\n",
    "\n",
    "ax = sns.jointplot(x='namelen', \n",
    "                   y='price',\n",
    "                   data=dedups[['namelen','price']], \n",
    "#                   data=dedups[['namelen','price']][dedups['model']=='golf'], \n",
    "                    alpha=0.1, \n",
    "                    size=8)\n",
    "\n",
    "\n"
   ]
  },
  {
   "cell_type": "code",
   "execution_count": 13,
   "metadata": {
    "_cell_guid": "47dd0370-53ae-506f-94bf-06808a3cec74",
    "_uuid": "4ba478aeff47056263762ae08c328ea75d3093f2"
   },
   "outputs": [],
   "source": [
    "labels = ['name', 'gearbox', 'notRepairedDamage', 'model', 'brand', 'fuelType', 'vehicleType']\n",
    "les = {}\n",
    "\n",
    "for l in labels:\n",
    "    les[l] = preprocessing.LabelEncoder()\n",
    "    les[l].fit(dedups[l])\n",
    "    tr = les[l].transform(dedups[l]) \n",
    "    dedups.loc[:, l + '_feat'] = pd.Series(tr, index=dedups.index)\n",
    "\n",
    "labeled = dedups[ ['price'\n",
    "                        ,'yearOfRegistration'\n",
    "                        ,'powerPS'\n",
    "                        ,'kilometer'\n",
    "                        ,'monthOfRegistration'\n",
    "                        , 'namelen'] \n",
    "                    + [x+\"_feat\" for x in labels]]\n"
   ]
  },
  {
   "cell_type": "code",
   "execution_count": 14,
   "metadata": {
    "_cell_guid": "40efb306-e78e-edda-4d48-27c4acd52d36",
    "_uuid": "d7d1f2d1742d4d86f3672a01233dc9e91b2a89e1"
   },
   "outputs": [
    {
     "data": {
      "text/plain": [
       "0.6224184813880769"
      ]
     },
     "execution_count": 14,
     "metadata": {},
     "output_type": "execute_result"
    }
   ],
   "source": [
    "len(labeled['name_feat'].unique()) / len(labeled['name_feat'])"
   ]
  },
  {
   "cell_type": "markdown",
   "metadata": {
    "_cell_guid": "f786e8c0-846d-e305-a961-4080f06f9b5a",
    "_uuid": "de59c069ee86d67a7af63e86872b878068e74ab5"
   },
   "source": [
    "Labels for the name column account for 62% of the total. I think it's too much, so I remove the feature."
   ]
  },
  {
   "cell_type": "code",
   "execution_count": 15,
   "metadata": {
    "_cell_guid": "0a138876-c44c-b852-b22f-33a99db264e2",
    "_uuid": "4b90b47b8ebc67b12125298bcd74a49e8f264158"
   },
   "outputs": [
    {
     "name": "stderr",
     "output_type": "stream",
     "text": [
      "C:\\Users\\Dell\\Anaconda3\\lib\\site-packages\\pandas\\core\\frame.py:3694: SettingWithCopyWarning: \n",
      "A value is trying to be set on a copy of a slice from a DataFrame\n",
      "\n",
      "See the caveats in the documentation: http://pandas.pydata.org/pandas-docs/stable/indexing.html#indexing-view-versus-copy\n",
      "  errors=errors)\n"
     ]
    }
   ],
   "source": [
    "labeled.drop(['name_feat'], axis='columns', inplace=True)"
   ]
  },
  {
   "cell_type": "markdown",
   "metadata": {
    "_cell_guid": "d7d5bb97-3596-b1f5-0860-663e77b505e7",
    "_uuid": "507949ef07cfc6e036471717bdb29c7a30ab4fe8"
   },
   "source": [
    "### Correlations"
   ]
  },
  {
   "cell_type": "code",
   "execution_count": 16,
   "metadata": {
    "_cell_guid": "e24f19ae-6fcb-3521-fc49-edc87ff6b0fc",
    "_uuid": "3656e7ff21cf20cc6a813a8d547906b17d72e913"
   },
   "outputs": [
    {
     "data": {
      "text/html": [
       "<div>\n",
       "<style scoped>\n",
       "    .dataframe tbody tr th:only-of-type {\n",
       "        vertical-align: middle;\n",
       "    }\n",
       "\n",
       "    .dataframe tbody tr th {\n",
       "        vertical-align: top;\n",
       "    }\n",
       "\n",
       "    .dataframe thead th {\n",
       "        text-align: right;\n",
       "    }\n",
       "</style>\n",
       "<table border=\"1\" class=\"dataframe\">\n",
       "  <thead>\n",
       "    <tr style=\"text-align: right;\">\n",
       "      <th></th>\n",
       "      <th>price</th>\n",
       "      <th>yearOfRegistration</th>\n",
       "      <th>powerPS</th>\n",
       "      <th>kilometer</th>\n",
       "      <th>monthOfRegistration</th>\n",
       "      <th>namelen</th>\n",
       "      <th>gearbox_feat</th>\n",
       "      <th>notRepairedDamage_feat</th>\n",
       "      <th>model_feat</th>\n",
       "      <th>brand_feat</th>\n",
       "      <th>fuelType_feat</th>\n",
       "      <th>vehicleType_feat</th>\n",
       "    </tr>\n",
       "  </thead>\n",
       "  <tbody>\n",
       "    <tr>\n",
       "      <th>price</th>\n",
       "      <td>1.000000</td>\n",
       "      <td>0.385264</td>\n",
       "      <td>0.573037</td>\n",
       "      <td>-0.444440</td>\n",
       "      <td>0.044782</td>\n",
       "      <td>0.186254</td>\n",
       "      <td>-0.297746</td>\n",
       "      <td>-0.002440</td>\n",
       "      <td>-0.012514</td>\n",
       "      <td>-0.105694</td>\n",
       "      <td>0.055978</td>\n",
       "      <td>-0.010906</td>\n",
       "    </tr>\n",
       "    <tr>\n",
       "      <th>yearOfRegistration</th>\n",
       "      <td>0.385264</td>\n",
       "      <td>1.000000</td>\n",
       "      <td>0.186486</td>\n",
       "      <td>-0.333933</td>\n",
       "      <td>0.044390</td>\n",
       "      <td>0.158798</td>\n",
       "      <td>-0.094694</td>\n",
       "      <td>-0.015699</td>\n",
       "      <td>0.041173</td>\n",
       "      <td>-0.044526</td>\n",
       "      <td>0.142402</td>\n",
       "      <td>0.058958</td>\n",
       "    </tr>\n",
       "    <tr>\n",
       "      <th>powerPS</th>\n",
       "      <td>0.573037</td>\n",
       "      <td>0.186486</td>\n",
       "      <td>1.000000</td>\n",
       "      <td>-0.014727</td>\n",
       "      <td>0.038635</td>\n",
       "      <td>0.106243</td>\n",
       "      <td>-0.447440</td>\n",
       "      <td>-0.022761</td>\n",
       "      <td>-0.132902</td>\n",
       "      <td>-0.310254</td>\n",
       "      <td>0.086305</td>\n",
       "      <td>0.112243</td>\n",
       "    </tr>\n",
       "    <tr>\n",
       "      <th>kilometer</th>\n",
       "      <td>-0.444440</td>\n",
       "      <td>-0.333933</td>\n",
       "      <td>-0.014727</td>\n",
       "      <td>1.000000</td>\n",
       "      <td>-0.016177</td>\n",
       "      <td>-0.105892</td>\n",
       "      <td>0.035524</td>\n",
       "      <td>0.005072</td>\n",
       "      <td>-0.023827</td>\n",
       "      <td>-0.026645</td>\n",
       "      <td>0.115204</td>\n",
       "      <td>0.043183</td>\n",
       "    </tr>\n",
       "    <tr>\n",
       "      <th>monthOfRegistration</th>\n",
       "      <td>0.044782</td>\n",
       "      <td>0.044390</td>\n",
       "      <td>0.038635</td>\n",
       "      <td>-0.016177</td>\n",
       "      <td>1.000000</td>\n",
       "      <td>0.044338</td>\n",
       "      <td>-0.049902</td>\n",
       "      <td>-0.050227</td>\n",
       "      <td>-0.009070</td>\n",
       "      <td>-0.012156</td>\n",
       "      <td>-0.035938</td>\n",
       "      <td>-0.004369</td>\n",
       "    </tr>\n",
       "    <tr>\n",
       "      <th>namelen</th>\n",
       "      <td>0.186254</td>\n",
       "      <td>0.158798</td>\n",
       "      <td>0.106243</td>\n",
       "      <td>-0.105892</td>\n",
       "      <td>0.044338</td>\n",
       "      <td>1.000000</td>\n",
       "      <td>-0.150795</td>\n",
       "      <td>-0.008167</td>\n",
       "      <td>0.078520</td>\n",
       "      <td>0.100056</td>\n",
       "      <td>0.043864</td>\n",
       "      <td>-0.026672</td>\n",
       "    </tr>\n",
       "    <tr>\n",
       "      <th>gearbox_feat</th>\n",
       "      <td>-0.297746</td>\n",
       "      <td>-0.094694</td>\n",
       "      <td>-0.447440</td>\n",
       "      <td>0.035524</td>\n",
       "      <td>-0.049902</td>\n",
       "      <td>-0.150795</td>\n",
       "      <td>1.000000</td>\n",
       "      <td>0.038948</td>\n",
       "      <td>0.046971</td>\n",
       "      <td>0.125735</td>\n",
       "      <td>-0.057441</td>\n",
       "      <td>-0.092224</td>\n",
       "    </tr>\n",
       "    <tr>\n",
       "      <th>notRepairedDamage_feat</th>\n",
       "      <td>-0.002440</td>\n",
       "      <td>-0.015699</td>\n",
       "      <td>-0.022761</td>\n",
       "      <td>0.005072</td>\n",
       "      <td>-0.050227</td>\n",
       "      <td>-0.008167</td>\n",
       "      <td>0.038948</td>\n",
       "      <td>1.000000</td>\n",
       "      <td>0.017825</td>\n",
       "      <td>0.016474</td>\n",
       "      <td>0.061819</td>\n",
       "      <td>0.027220</td>\n",
       "    </tr>\n",
       "    <tr>\n",
       "      <th>model_feat</th>\n",
       "      <td>-0.012514</td>\n",
       "      <td>0.041173</td>\n",
       "      <td>-0.132902</td>\n",
       "      <td>-0.023827</td>\n",
       "      <td>-0.009070</td>\n",
       "      <td>0.078520</td>\n",
       "      <td>0.046971</td>\n",
       "      <td>0.017825</td>\n",
       "      <td>1.000000</td>\n",
       "      <td>0.472098</td>\n",
       "      <td>0.049058</td>\n",
       "      <td>-0.136196</td>\n",
       "    </tr>\n",
       "    <tr>\n",
       "      <th>brand_feat</th>\n",
       "      <td>-0.105694</td>\n",
       "      <td>-0.044526</td>\n",
       "      <td>-0.310254</td>\n",
       "      <td>-0.026645</td>\n",
       "      <td>-0.012156</td>\n",
       "      <td>0.100056</td>\n",
       "      <td>0.125735</td>\n",
       "      <td>0.016474</td>\n",
       "      <td>0.472098</td>\n",
       "      <td>1.000000</td>\n",
       "      <td>-0.023840</td>\n",
       "      <td>-0.102601</td>\n",
       "    </tr>\n",
       "    <tr>\n",
       "      <th>fuelType_feat</th>\n",
       "      <td>0.055978</td>\n",
       "      <td>0.142402</td>\n",
       "      <td>0.086305</td>\n",
       "      <td>0.115204</td>\n",
       "      <td>-0.035938</td>\n",
       "      <td>0.043864</td>\n",
       "      <td>-0.057441</td>\n",
       "      <td>0.061819</td>\n",
       "      <td>0.049058</td>\n",
       "      <td>-0.023840</td>\n",
       "      <td>1.000000</td>\n",
       "      <td>0.090201</td>\n",
       "    </tr>\n",
       "    <tr>\n",
       "      <th>vehicleType_feat</th>\n",
       "      <td>-0.010906</td>\n",
       "      <td>0.058958</td>\n",
       "      <td>0.112243</td>\n",
       "      <td>0.043183</td>\n",
       "      <td>-0.004369</td>\n",
       "      <td>-0.026672</td>\n",
       "      <td>-0.092224</td>\n",
       "      <td>0.027220</td>\n",
       "      <td>-0.136196</td>\n",
       "      <td>-0.102601</td>\n",
       "      <td>0.090201</td>\n",
       "      <td>1.000000</td>\n",
       "    </tr>\n",
       "  </tbody>\n",
       "</table>\n",
       "</div>"
      ],
      "text/plain": [
       "                           price  yearOfRegistration   powerPS  kilometer  \\\n",
       "price                   1.000000            0.385264  0.573037  -0.444440   \n",
       "yearOfRegistration      0.385264            1.000000  0.186486  -0.333933   \n",
       "powerPS                 0.573037            0.186486  1.000000  -0.014727   \n",
       "kilometer              -0.444440           -0.333933 -0.014727   1.000000   \n",
       "monthOfRegistration     0.044782            0.044390  0.038635  -0.016177   \n",
       "namelen                 0.186254            0.158798  0.106243  -0.105892   \n",
       "gearbox_feat           -0.297746           -0.094694 -0.447440   0.035524   \n",
       "notRepairedDamage_feat -0.002440           -0.015699 -0.022761   0.005072   \n",
       "model_feat             -0.012514            0.041173 -0.132902  -0.023827   \n",
       "brand_feat             -0.105694           -0.044526 -0.310254  -0.026645   \n",
       "fuelType_feat           0.055978            0.142402  0.086305   0.115204   \n",
       "vehicleType_feat       -0.010906            0.058958  0.112243   0.043183   \n",
       "\n",
       "                        monthOfRegistration   namelen  gearbox_feat  \\\n",
       "price                              0.044782  0.186254     -0.297746   \n",
       "yearOfRegistration                 0.044390  0.158798     -0.094694   \n",
       "powerPS                            0.038635  0.106243     -0.447440   \n",
       "kilometer                         -0.016177 -0.105892      0.035524   \n",
       "monthOfRegistration                1.000000  0.044338     -0.049902   \n",
       "namelen                            0.044338  1.000000     -0.150795   \n",
       "gearbox_feat                      -0.049902 -0.150795      1.000000   \n",
       "notRepairedDamage_feat            -0.050227 -0.008167      0.038948   \n",
       "model_feat                        -0.009070  0.078520      0.046971   \n",
       "brand_feat                        -0.012156  0.100056      0.125735   \n",
       "fuelType_feat                     -0.035938  0.043864     -0.057441   \n",
       "vehicleType_feat                  -0.004369 -0.026672     -0.092224   \n",
       "\n",
       "                        notRepairedDamage_feat  model_feat  brand_feat  \\\n",
       "price                                -0.002440   -0.012514   -0.105694   \n",
       "yearOfRegistration                   -0.015699    0.041173   -0.044526   \n",
       "powerPS                              -0.022761   -0.132902   -0.310254   \n",
       "kilometer                             0.005072   -0.023827   -0.026645   \n",
       "monthOfRegistration                  -0.050227   -0.009070   -0.012156   \n",
       "namelen                              -0.008167    0.078520    0.100056   \n",
       "gearbox_feat                          0.038948    0.046971    0.125735   \n",
       "notRepairedDamage_feat                1.000000    0.017825    0.016474   \n",
       "model_feat                            0.017825    1.000000    0.472098   \n",
       "brand_feat                            0.016474    0.472098    1.000000   \n",
       "fuelType_feat                         0.061819    0.049058   -0.023840   \n",
       "vehicleType_feat                      0.027220   -0.136196   -0.102601   \n",
       "\n",
       "                        fuelType_feat  vehicleType_feat  \n",
       "price                        0.055978         -0.010906  \n",
       "yearOfRegistration           0.142402          0.058958  \n",
       "powerPS                      0.086305          0.112243  \n",
       "kilometer                    0.115204          0.043183  \n",
       "monthOfRegistration         -0.035938         -0.004369  \n",
       "namelen                      0.043864         -0.026672  \n",
       "gearbox_feat                -0.057441         -0.092224  \n",
       "notRepairedDamage_feat       0.061819          0.027220  \n",
       "model_feat                   0.049058         -0.136196  \n",
       "brand_feat                  -0.023840         -0.102601  \n",
       "fuelType_feat                1.000000          0.090201  \n",
       "vehicleType_feat             0.090201          1.000000  "
      ]
     },
     "execution_count": 16,
     "metadata": {},
     "output_type": "execute_result"
    },
    {
     "data": {
      "image/png": "[encoded data removed]",
      "text/plain": [
       "<Figure size 864x720 with 2 Axes>"
      ]
     },
     "metadata": {},
     "output_type": "display_data"
    }
   ],
   "source": [
    "plot_correlation_map(labeled)\n",
    "labeled.corr()"
   ]
  },
  {
   "cell_type": "code",
   "execution_count": 17,
   "metadata": {
    "_cell_guid": "d227b344-b47f-b61c-ebf9-4f3c369ee44b",
    "_uuid": "6aa3482169cd5cb34a18b87baca5e6836ffd73e5"
   },
   "outputs": [
    {
     "data": {
      "text/plain": [
       "powerPS                   0.573037\n",
       "kilometer                 0.444440\n",
       "yearOfRegistration        0.385264\n",
       "gearbox_feat              0.297746\n",
       "namelen                   0.186254\n",
       "brand_feat                0.105694\n",
       "fuelType_feat             0.055978\n",
       "monthOfRegistration       0.044782\n",
       "model_feat                0.012514\n",
       "vehicleType_feat          0.010906\n",
       "notRepairedDamage_feat    0.002440\n",
       "Name: price, dtype: float64"
      ]
     },
     "execution_count": 17,
     "metadata": {},
     "output_type": "execute_result"
    }
   ],
   "source": [
    "labeled.corr().loc[:,'price'].abs().sort_values(ascending=False)[1:]"
   ]
  },
  {
   "cell_type": "markdown",
   "metadata": {
    "_cell_guid": "740478a0-55d5-2c27-45d9-22b99592e3e6",
    "_uuid": "68daef0107f6426da0da3a897e5f0d19d96c8caa"
   },
   "source": [
    "# Playing with different models"
   ]
  },
  {
   "cell_type": "code",
   "execution_count": 18,
   "metadata": {
    "_cell_guid": "f8fee99c-2557-7fdc-8036-6bb8194d4c3d",
    "_uuid": "c36054e955d3679a8457bc3711e8a022d7b94fba",
    "scrolled": true
   },
   "outputs": [
    {
     "data": {
      "image/png": "[encoded data removed]",
      "text/plain": [
       "<Figure size 864x432 with 2 Axes>"
      ]
     },
     "metadata": {},
     "output_type": "display_data"
    }
   ],
   "source": [
    "\n",
    "Y = labeled['price']\n",
    "X = labeled.drop(['price'], axis='columns', inplace=False)\n",
    "\n",
    "\n",
    "matplotlib.rcParams['figure.figsize'] = (12.0, 6.0)\n",
    "prices = pd.DataFrame({\"1. Before\":Y, \"2. After\":np.log1p(Y)})\n",
    "prices.hist()\n",
    "\n",
    "Y = np.log1p(Y)"
   ]
  },
  {
   "cell_type": "markdown",
   "metadata": {
    "_cell_guid": "50a7f0e3-5cd7-a343-d3a7-64bb4e94702e",
    "_uuid": "88aa384905fd97fe9adbe2d95ec60b1371a2a120"
   },
   "source": [
    "### Basic imports and functions"
   ]
  },
  {
   "cell_type": "code",
   "execution_count": 46,
   "metadata": {
    "_cell_guid": "11a602ce-51a5-4993-d249-b704ecf2ca91",
    "_uuid": "3d5133f3fa46e003e93b4e348a155901c4ca27b7"
   },
   "outputs": [
    {
     "name": "stdout",
     "output_type": "stream",
     "text": [
      "(212893, 11) (91240, 11) (212893,) (91240,)\n",
      "        yearOfRegistration  powerPS  kilometer  monthOfRegistration  namelen  \\\n",
      "327415                1991       70     150000                    1       18   \n",
      "79284                 2006      179     150000                    1       43   \n",
      "270903                2003      144     150000                    5       60   \n",
      "313239                2000       75     125000                    4       11   \n",
      "320054                1992       90     150000                   10       26   \n",
      "129260                2002       54     125000                   12       19   \n",
      "246899                2004      174     150000                   12       55   \n",
      "337573                2011      450      90000                    2       17   \n",
      "71340                 1994      102     150000                    4        8   \n",
      "283002                2006      200     100000                    3       45   \n",
      "13417                 1998      177     150000                   11       35   \n",
      "87427                 2003      192     150000                    1       47   \n",
      "163967                2007      122     150000                   11       23   \n",
      "237011                1995      193     150000                   11       60   \n",
      "356897                2012      179     150000                    3       27   \n",
      "360995                1999      105     150000                    0       24   \n",
      "149174                1999      165     150000                    0       32   \n",
      "57772                 2013      125      30000                    5       52   \n",
      "3448                  2007      179     150000                    9       25   \n",
      "118197                1979      350      60000                    2       45   \n",
      "15338                 1998      150     150000                   12       20   \n",
      "280175                2005      131     150000                    5       54   \n",
      "249333                1998      116     150000                    5       19   \n",
      "272003                1988       90     150000                    1       18   \n",
      "223534                2006      150     150000                    0       31   \n",
      "260141                2012      197      90000                    3       36   \n",
      "327891                2003      116     150000                    6       26   \n",
      "87369                 2016       69       5000                    3       59   \n",
      "205943                1996       50     150000                    0       12   \n",
      "234200                2003      116     150000                    5       22   \n",
      "...                    ...      ...        ...                  ...      ...   \n",
      "176968                1997       85     150000                   12       65   \n",
      "87577                 2008       80     100000                    9       36   \n",
      "344980                1967       44     150000                    7       13   \n",
      "215175                2002      131     125000                    5       25   \n",
      "92718                 1999      197     150000                    8       34   \n",
      "38280                 2003       75     150000                    5       61   \n",
      "91918                 2014       75      30000                    4       15   \n",
      "124527                1995       55     150000                    0       12   \n",
      "117506                2007      231     125000                    1       22   \n",
      "195411                2009      120      50000                    6       11   \n",
      "325244                2005      239      60000                    9       56   \n",
      "87378                 1993       54     150000                    6       36   \n",
      "79922                 2013      116      70000                    8       50   \n",
      "83760                 2001      125     150000                    1       40   \n",
      "293181                2008      143     100000                    5       50   \n",
      "221434                2001      170     125000                   11       45   \n",
      "120420                1998       60     150000                   10       43   \n",
      "234128                2016      170       5000                    0       42   \n",
      "4380                  1969      300     100000                    7       54   \n",
      "246789                2003      136     150000                    0       11   \n",
      "240538                2012      140     150000                    3       57   \n",
      "72127                 2009      109     150000                    1       61   \n",
      "238016                1995      150     150000                    8       23   \n",
      "276064                2001      101     150000                   12       42   \n",
      "262237                2004      136     150000                    4       17   \n",
      "13633                 2001      106     150000                   11       23   \n",
      "57872                 1993       88     125000                   10       10   \n",
      "92807                 2007      218     125000                    4        8   \n",
      "240833                2004      105     150000                    4       20   \n",
      "86148                 1985       69     150000                   12       23   \n",
      "\n",
      "        gearbox_feat  notRepairedDamage_feat  model_feat  brand_feat  \\\n",
      "327415             1                       2         118          38   \n",
      "79284              0                       0          31           1   \n",
      "270903             0                       1          67          15   \n",
      "313239             1                       2         122          30   \n",
      "320054             1                       1         118          38   \n",
      "129260             2                       1         108          32   \n",
      "246899             1                       1         225          38   \n",
      "337573             0                       1          40           1   \n",
      "71340              1                       1          11           2   \n",
      "283002             1                       1          29           1   \n",
      "13417              0                       1          97          20   \n",
      "87427              2                       2          11           2   \n",
      "163967             1                       1           6           2   \n",
      "237011             0                       1          19           2   \n",
      "356897             1                       1          31           1   \n",
      "360995             2                       2         105          10   \n",
      "149174             1                       2          31           1   \n",
      "57772              1                       1         105          10   \n",
      "3448               1                       1          31           1   \n",
      "118197             0                       1          40           3   \n",
      "15338              1                       1          15           2   \n",
      "280175             1                       1         225          38   \n",
      "249333             1                       1         249           2   \n",
      "272003             1                       1         118          38   \n",
      "223534             0                       1         172          38   \n",
      "260141             0                       1         210          15   \n",
      "327891             1                       1          11           2   \n",
      "87369              1                       1          55           5   \n",
      "205943             1                       0         175          38   \n",
      "234200             1                       1         172          38   \n",
      "...              ...                     ...         ...         ...   \n",
      "176968             1                       0          40          36   \n",
      "87577              1                       1         103          31   \n",
      "344980             1                       1         225          38   \n",
      "215175             1                       0         178           9   \n",
      "92718              0                       0          97          20   \n",
      "38280              1                       1          84          24   \n",
      "91918              1                       1         189          15   \n",
      "124527             2                       2         118          38   \n",
      "117506             0                       1          15           2   \n",
      "195411             1                       1          81          21   \n",
      "325244             0                       1          53          26   \n",
      "87378              1                       2         228          27   \n",
      "79922              1                       1          61          10   \n",
      "83760              0                       1          43          24   \n",
      "293181             1                       1          11           2   \n",
      "221434             1                       1         249           2   \n",
      "120420             1                       1         104          10   \n",
      "234128             1                       2          60          20   \n",
      "4380               0                       1          40           3   \n",
      "246789             0                       1         163          25   \n",
      "240538             1                       1         223          38   \n",
      "72127              1                       1          78          21   \n",
      "238016             1                       0          60          20   \n",
      "276064             1                       1          28           1   \n",
      "262237             1                       2         223          38   \n",
      "13633              0                       2         151          27   \n",
      "57872              0                       1          40           5   \n",
      "92807              1                       1          11           2   \n",
      "240833             1                       1          94           9   \n",
      "86148              1                       1         126          38   \n",
      "\n",
      "        fuelType_feat  vehicleType_feat  \n",
      "327415              1                 6  \n",
      "79284               3                 5  \n",
      "270903              3                 1  \n",
      "313239              1                 3  \n",
      "320054              1                 4  \n",
      "129260              1                 2  \n",
      "246899              3                 1  \n",
      "337573              1                 3  \n",
      "71340               1                 3  \n",
      "283002              1                 6  \n",
      "13417               3                 5  \n",
      "87427               1                 6  \n",
      "163967              1                 6  \n",
      "237011              1                 6  \n",
      "356897              1                 5  \n",
      "360995              7                 6  \n",
      "149174              1                 5  \n",
      "57772               1                 6  \n",
      "3448                3                 5  \n",
      "118197              6                 0  \n",
      "15338               1                 5  \n",
      "280175              3                 1  \n",
      "249333              1                 2  \n",
      "272003              1                 4  \n",
      "223534              7                 5  \n",
      "260141              3                 8  \n",
      "327891              3                 6  \n",
      "87369               1                 4  \n",
      "205943              7                 4  \n",
      "234200              1                 5  \n",
      "...               ...               ...  \n",
      "176968              1                 4  \n",
      "87577               3                 4  \n",
      "344980              1                 1  \n",
      "215175              1                 4  \n",
      "92718               3                 6  \n",
      "38280               1                 6  \n",
      "91918               3                 6  \n",
      "124527              7                 7  \n",
      "117506              3                 5  \n",
      "195411              1                 4  \n",
      "325244              1                 2  \n",
      "87378               1                 4  \n",
      "79922               3                 1  \n",
      "83760               1                 5  \n",
      "293181              1                 6  \n",
      "221434              1                 2  \n",
      "120420              1                 4  \n",
      "234128              1                 7  \n",
      "4380                1                 3  \n",
      "246789              1                 6  \n",
      "240538              3                 1  \n",
      "72127               3                 4  \n",
      "238016              1                 6  \n",
      "276064              1                 4  \n",
      "262237              7                 0  \n",
      "13633               1                 6  \n",
      "57872               1                 6  \n",
      "92807               1                 6  \n",
      "240833              3                 1  \n",
      "86148               3                 6  \n",
      "\n",
      "[212893 rows x 11 columns]\n"
     ]
    }
   ],
   "source": [
    "from sklearn.linear_model import Ridge, RidgeCV, ElasticNet, Lasso, LassoCV, LassoLarsCV\n",
    "from sklearn.model_selection import cross_val_score, train_test_split\n",
    "\n",
    "\n",
    "# Percent of the X array to use as training set. This implies that the rest will be test set\n",
    "\n",
    "#Split into train and validation\n",
    "X_train, X_val, y_train, y_val = train_test_split(X, Y, test_size=0.3, random_state = 3)\n",
    "print(X_train.shape, X_val.shape, y_train.shape, y_val.shape)\n",
    "print(X_train)\n",
    "r = range(2003, 2017)\n",
    "km_year = 10000\n",
    "\n"
   ]
  },
  {
   "cell_type": "code",
   "execution_count": 48,
   "metadata": {},
   "outputs": [
    {
     "name": "stdout",
     "output_type": "stream",
     "text": [
      "327415     6.381816\n",
      "79284      8.476580\n",
      "270903     7.467942\n",
      "313239     6.621406\n",
      "320054     6.042633\n",
      "129260     7.804251\n",
      "246899     9.433564\n",
      "337573    10.568775\n",
      "71340      7.208600\n",
      "283002     9.208439\n",
      "13417      8.294300\n",
      "87427      8.497195\n",
      "163967     8.839422\n",
      "237011     6.685861\n",
      "356897     9.890959\n",
      "360995     5.993961\n",
      "149174     7.783641\n",
      "57772      9.433484\n",
      "3448       9.093919\n",
      "118197     9.159152\n",
      "15338      6.908755\n",
      "280175     9.296610\n",
      "249333     9.047821\n",
      "272003     7.496097\n",
      "223534     8.867991\n",
      "260141     9.798183\n",
      "327891     8.128880\n",
      "87369      9.047939\n",
      "205943     5.707110\n",
      "234200     8.343078\n",
      "            ...    \n",
      "176968     5.521461\n",
      "87577      8.716208\n",
      "344980    10.532096\n",
      "215175     7.003974\n",
      "92718      6.907755\n",
      "38280      7.378384\n",
      "91918      9.581973\n",
      "124527     5.860786\n",
      "117506     9.741027\n",
      "195411     9.230241\n",
      "325244    10.122663\n",
      "87378      5.017280\n",
      "79922      9.536113\n",
      "83760      7.596392\n",
      "293181     9.345832\n",
      "221434     9.259131\n",
      "120420     6.907755\n",
      "234128     6.908755\n",
      "4380       9.735128\n",
      "246789     7.741099\n",
      "240538     9.521568\n",
      "72127      9.024131\n",
      "238016     6.398595\n",
      "276064     7.496097\n",
      "262237     8.160804\n",
      "13633      6.398595\n",
      "57872      6.478510\n",
      "92807      9.254453\n",
      "240833     7.550135\n",
      "86148      6.551080\n",
      "Name: price, Length: 212893, dtype: float64\n"
     ]
    }
   ],
   "source": [
    "print(y_train)"
   ]
  },
  {
   "cell_type": "code",
   "execution_count": 49,
   "metadata": {},
   "outputs": [
    {
     "name": "stdout",
     "output_type": "stream",
     "text": [
      "        yearOfRegistration  powerPS  kilometer  monthOfRegistration  namelen  \\\n",
      "64816                 2000      170     150000                    0       61   \n",
      "113605                1970       88      50000                    6       13   \n",
      "162017                2008      170     150000                   10       27   \n",
      "277070                2002      170     150000                   12       11   \n",
      "116433                2003       75     150000                   11       48   \n",
      "70209                 2002       82       5000                   10       12   \n",
      "173438                1999      147     150000                   10       55   \n",
      "360924                1989       77     150000                    5       19   \n",
      "342698                2007      235     150000                   10       11   \n",
      "189637                1996       90     150000                    3       41   \n",
      "114404                2001      197     150000                    2       32   \n",
      "368991                2005      177     150000                   11       40   \n",
      "330428                1991      113     150000                    2       25   \n",
      "77492                 2001       95     150000                    7       19   \n",
      "55794                 2002      110     125000                    2       25   \n",
      "292666                2010      136      50000                    9       61   \n",
      "121267                2001      101     125000                   10       45   \n",
      "148308                2016      110     150000                    6       15   \n",
      "306744                2001       60      80000                    1       38   \n",
      "147714                2001       75     150000                    7       37   \n",
      "84533                 2009      190     150000                    6       49   \n",
      "21834                 1999      115     150000                    0       24   \n",
      "237533                2005      224     150000                   11       37   \n",
      "285101                2005      163     150000                   12        8   \n",
      "138174                1998       75     150000                   10       29   \n",
      "253417                2009      120      90000                    6       31   \n",
      "254514                2009      131     150000                    4       42   \n",
      "364716                2008      100      50000                    5       65   \n",
      "261488                2000       50     150000                    0       23   \n",
      "91243                 2008      103     150000                    4       26   \n",
      "...                    ...      ...        ...                  ...      ...   \n",
      "52043                 2002      144     150000                    3       37   \n",
      "251608                2006      150     150000                    4       24   \n",
      "70913                 2001       75     150000                    5       24   \n",
      "185170                2009      122     100000                    7       35   \n",
      "118823                2008      170     150000                    7       50   \n",
      "31377                 1995      150     150000                    0       30   \n",
      "180659                2011      306      90000                    2       52   \n",
      "47841                 2008      125     150000                    3       10   \n",
      "310768                1999      107     150000                   11       52   \n",
      "292080                2011      177      60000                   12       16   \n",
      "282837                2005       90      50000                   11       15   \n",
      "234171                2002      102     150000                    7       22   \n",
      "189434                2006      224     150000                    3       43   \n",
      "58040                 1990      107     150000                    9       31   \n",
      "41207                 1998      204     150000                   12       52   \n",
      "306399                2010      177      60000                    3       47   \n",
      "331124                2005      140     150000                    6       29   \n",
      "92316                 2013      400      50000                    1       12   \n",
      "230967                1999      101     150000                    4       18   \n",
      "139772                2012      163     100000                    4       26   \n",
      "181941                1998      125     150000                   12       25   \n",
      "144221                1996      109     150000                    4       18   \n",
      "155997                2000       60      40000                   12       18   \n",
      "130078                2009       90     125000                   10       61   \n",
      "284772                2007       54     125000                    8       39   \n",
      "244131                2011       90     150000                    6       15   \n",
      "79173                 2016      107     150000                    8       49   \n",
      "4124                  2007      170     150000                   10       19   \n",
      "218918                2003      131     150000                   11       55   \n",
      "69212                 1995      150     150000                    3       22   \n",
      "\n",
      "        gearbox_feat  notRepairedDamage_feat  model_feat  brand_feat  \\\n",
      "64816              0                       2         163          20   \n",
      "113605             1                       1          40           0   \n",
      "162017             1                       1         210          15   \n",
      "277070             0                       1          29           1   \n",
      "116433             1                       1         122          30   \n",
      "70209              1                       2         115          12   \n",
      "173438             1                       2         167          24   \n",
      "360924             1                       2         225          38   \n",
      "342698             0                       1         242           2   \n",
      "189637             1                       1         118          38   \n",
      "114404             1                       1         209          20   \n",
      "368991             1                       1         236          36   \n",
      "330428             1                       1         175          38   \n",
      "77492              2                       1          33          20   \n",
      "55794              1                       1         160          19   \n",
      "292666             0                       1          97          20   \n",
      "121267             0                       0         235          24   \n",
      "148308             1                       0         163           1   \n",
      "306744             1                       1         248          17   \n",
      "147714             1                       1          76          27   \n",
      "84533              0                       1          31           1   \n",
      "21834              1                       0          43          24   \n",
      "237533             1                       1          31           1   \n",
      "285101             0                       1          11           2   \n",
      "138174             1                       1         118          38   \n",
      "253417             1                       1         104          10   \n",
      "254514             1                       0         124          24   \n",
      "364716             1                       1         105          10   \n",
      "261488             1                       2          42          30   \n",
      "91243              1                       1         200          27   \n",
      "...              ...                     ...         ...         ...   \n",
      "52043              1                       1         167          24   \n",
      "251608             1                       1         172          38   \n",
      "70913              1                       1         118          38   \n",
      "185170             1                       0           6           2   \n",
      "118823             1                       1          29           1   \n",
      "31377              1                       1          15           2   \n",
      "180659             1                       1          11           2   \n",
      "47841              1                       1          44          36   \n",
      "310768             0                       1         200          27   \n",
      "292080             1                       1         242           2   \n",
      "282837             1                       1         152          24   \n",
      "234171             1                       1         200          27   \n",
      "189434             0                       1          31           1   \n",
      "58040              1                       1         118          38   \n",
      "41207              1                       1          53          26   \n",
      "306399             0                       1          11           2   \n",
      "331124             0                       1         223          38   \n",
      "92316              0                       1          25          26   \n",
      "230967             1                       1         118          38   \n",
      "139772             1                       1         121          12   \n",
      "181941             1                       1         170          22   \n",
      "144221             2                       1         163          38   \n",
      "155997             1                       1         104          10   \n",
      "130078             1                       1          40          36   \n",
      "284772             1                       1         109          38   \n",
      "244131             1                       0           8          25   \n",
      "79173              1                       1         138          27   \n",
      "4124               1                       2         118          38   \n",
      "218918             1                       1         118          38   \n",
      "69212              1                       1          40           1   \n",
      "\n",
      "        fuelType_feat  vehicleType_feat  \n",
      "64816               7                 5  \n",
      "113605              1                 3  \n",
      "162017              3                 8  \n",
      "277070              1                 6  \n",
      "116433              1                 4  \n",
      "70209               1                 4  \n",
      "173438              1                 6  \n",
      "360924              1                 1  \n",
      "342698              3                 8  \n",
      "189637              1                 2  \n",
      "114404              1                 2  \n",
      "368991              3                 1  \n",
      "330428              1                 3  \n",
      "77492               3                 4  \n",
      "55794               1                 2  \n",
      "292666              3                 5  \n",
      "121267              1                 6  \n",
      "148308              7                 7  \n",
      "306744              1                 4  \n",
      "147714              1                 4  \n",
      "84533               3                 5  \n",
      "21834               1                 5  \n",
      "237533              3                 6  \n",
      "285101              3                 6  \n",
      "138174              1                 6  \n",
      "253417              1                 4  \n",
      "254514              3                 5  \n",
      "364716              1                 6  \n",
      "261488              1                 4  \n",
      "91243               3                 1  \n",
      "...               ...               ...  \n",
      "52043               1                 5  \n",
      "251608              1                 6  \n",
      "70913               1                 6  \n",
      "185170              1                 6  \n",
      "118823              3                 5  \n",
      "31377               1                 5  \n",
      "180659              1                 3  \n",
      "47841               1                 6  \n",
      "310768              1                 1  \n",
      "292080              3                 6  \n",
      "282837              1                 1  \n",
      "234171              3                 1  \n",
      "189434              3                 5  \n",
      "58040               1                 4  \n",
      "41207               1                 2  \n",
      "306399              3                 6  \n",
      "331124              3                 1  \n",
      "92316               1                 6  \n",
      "230967              1                 6  \n",
      "139772              1                 8  \n",
      "181941              3                 8  \n",
      "144221              3                 5  \n",
      "155997              1                 4  \n",
      "130078              3                 4  \n",
      "284772              1                 4  \n",
      "244131              3                 4  \n",
      "79173               1                 7  \n",
      "4124                1                 6  \n",
      "218918              3                 5  \n",
      "69212               1                 2  \n",
      "\n",
      "[91240 rows x 11 columns]\n"
     ]
    }
   ],
   "source": [
    "print(X_val)"
   ]
  },
  {
   "cell_type": "code",
   "execution_count": 50,
   "metadata": {},
   "outputs": [
    {
     "name": "stdout",
     "output_type": "stream",
     "text": [
      "64816      7.863651\n",
      "113605    10.064798\n",
      "162017     9.018090\n",
      "277070     8.612503\n",
      "116433     7.740664\n",
      "70209      7.313887\n",
      "173438     6.154858\n",
      "360924     8.216358\n",
      "342698     9.615805\n",
      "189637     7.313887\n",
      "114404     8.699681\n",
      "368991     8.612685\n",
      "330428     7.170888\n",
      "77492      7.131699\n",
      "55794      8.188967\n",
      "292666    10.041117\n",
      "121267     6.042633\n",
      "148308     6.857514\n",
      "306744     6.907755\n",
      "147714     7.863651\n",
      "84533      9.432764\n",
      "21834      7.409136\n",
      "237533     9.071193\n",
      "285101     8.921458\n",
      "138174     7.527256\n",
      "253417     8.981053\n",
      "254514     8.497195\n",
      "364716     8.936035\n",
      "261488     5.993961\n",
      "91243      8.117014\n",
      "            ...    \n",
      "52043      7.313887\n",
      "251608     8.521384\n",
      "70913      7.844241\n",
      "185170     8.665786\n",
      "118823     9.104980\n",
      "31377      7.090910\n",
      "180659    10.085434\n",
      "47841      8.612503\n",
      "310768     6.684612\n",
      "292080     9.943477\n",
      "282837     8.366603\n",
      "234171     7.280008\n",
      "189434     9.539716\n",
      "58040      7.378384\n",
      "41207      9.190240\n",
      "306399    10.021315\n",
      "331124     8.411833\n",
      "92316     11.429555\n",
      "230967     7.638198\n",
      "139772     9.425532\n",
      "181941     8.612685\n",
      "144221     8.006701\n",
      "155997     7.244942\n",
      "130078     8.895767\n",
      "284772     7.989899\n",
      "244131     8.455531\n",
      "79173      6.802395\n",
      "4124       8.366603\n",
      "218918     7.901377\n",
      "69212      8.612685\n",
      "Name: price, Length: 91240, dtype: float64\n"
     ]
    }
   ],
   "source": [
    "print(y_val)"
   ]
  },
  {
   "cell_type": "markdown",
   "metadata": {},
   "source": [
    "# Multi-Linear Regression"
   ]
  },
  {
   "cell_type": "code",
   "execution_count": 20,
   "metadata": {},
   "outputs": [],
   "source": [
    "from sklearn.linear_model import LinearRegression\n",
    "mr=LinearRegression()"
   ]
  },
  {
   "cell_type": "code",
   "execution_count": 21,
   "metadata": {},
   "outputs": [
    {
     "data": {
      "text/plain": [
       "LinearRegression(copy_X=True, fit_intercept=True, n_jobs=1, normalize=False)"
      ]
     },
     "execution_count": 21,
     "metadata": {},
     "output_type": "execute_result"
    }
   ],
   "source": [
    "mr.fit(X_train,y_train)"
   ]
  },
  {
   "cell_type": "code",
   "execution_count": 22,
   "metadata": {},
   "outputs": [],
   "source": [
    "y_predict2=mr.predict(X_val)"
   ]
  },
  {
   "cell_type": "code",
   "execution_count": 23,
   "metadata": {},
   "outputs": [
    {
     "data": {
      "text/plain": [
       "0.5866304613041808"
      ]
     },
     "execution_count": 23,
     "metadata": {},
     "output_type": "execute_result"
    }
   ],
   "source": [
    "from sklearn.metrics import r2_score\n",
    "r2_score(y_val,y_predict2)"
   ]
  },
  {
   "cell_type": "markdown",
   "metadata": {},
   "source": [
    "# Decision Tree Regression"
   ]
  },
  {
   "cell_type": "code",
   "execution_count": 24,
   "metadata": {},
   "outputs": [
    {
     "data": {
      "text/plain": [
       "DecisionTreeRegressor(criterion='mse', max_depth=None, max_features=None,\n",
       "           max_leaf_nodes=None, min_impurity_decrease=0.0,\n",
       "           min_impurity_split=None, min_samples_leaf=1,\n",
       "           min_samples_split=2, min_weight_fraction_leaf=0.0,\n",
       "           presort=False, random_state=0, splitter='best')"
      ]
     },
     "execution_count": 24,
     "metadata": {},
     "output_type": "execute_result"
    }
   ],
   "source": [
    "from sklearn.tree import DecisionTreeRegressor  \n",
    "  \n",
    "# create a regressor object \n",
    "regressor = DecisionTreeRegressor(random_state = 0)  \n",
    "  \n",
    "# fit the regressor with X and Y data \n",
    "regressor.fit(X_train, y_train) "
   ]
  },
  {
   "cell_type": "code",
   "execution_count": 25,
   "metadata": {
    "scrolled": true
   },
   "outputs": [],
   "source": [
    "y_predict=regressor.predict(X_val)"
   ]
  },
  {
   "cell_type": "code",
   "execution_count": 26,
   "metadata": {},
   "outputs": [
    {
     "data": {
      "text/plain": [
       "0.7550039367929925"
      ]
     },
     "execution_count": 26,
     "metadata": {},
     "output_type": "execute_result"
    }
   ],
   "source": [
    "from sklearn.metrics import r2_score\n",
    "r2_score(y_val,y_predict)"
   ]
  },
  {
   "cell_type": "markdown",
   "metadata": {},
   "source": [
    "# Random Forest Regression"
   ]
  },
  {
   "cell_type": "code",
   "execution_count": 42,
   "metadata": {
    "_cell_guid": "f07da67d-f667-4221-0a3c-a04db92cdb05",
    "_uuid": "80ce69a3c3bd21d2cc588c761e7ec360d2dfb865"
   },
   "outputs": [
    {
     "name": "stdout",
     "output_type": "stream",
     "text": [
      "Fitting 2 folds for each of 1 candidates, totalling 2 fits\n"
     ]
    },
    {
     "name": "stderr",
     "output_type": "stream",
     "text": [
      "[Parallel(n_jobs=-1)]: Done   2 out of   2 | elapsed:  4.0min remaining:    0.0s\n",
      "[Parallel(n_jobs=-1)]: Done   2 out of   2 | elapsed:  4.0min finished\n"
     ]
    }
   ],
   "source": [
    "from sklearn.ensemble import RandomForestRegressor\n",
    "from sklearn.model_selection import GridSearchCV\n",
    "\n",
    "rf = RandomForestRegressor()\n",
    "\n",
    "param_grid = { \"criterion\" : [\"mse\"]\n",
    "              , \"min_samples_leaf\" : [3]\n",
    "              , \"min_samples_split\" : [3]\n",
    "              , \"max_depth\": [10]\n",
    "              , \"n_estimators\": [500]}\n",
    "\n",
    "gs = GridSearchCV(estimator=rf, param_grid=param_grid, cv=2, n_jobs=-1, verbose=1)\n",
    "gs = gs.fit(X_train, y_train)\n"
   ]
  },
  {
   "cell_type": "code",
   "execution_count": 43,
   "metadata": {
    "_cell_guid": "b26b36a6-8696-d18e-bab1-6a12bffd0f3d",
    "_uuid": "f0fcd264429993bae9e334aa59a35ed973793464"
   },
   "outputs": [
    {
     "name": "stdout",
     "output_type": "stream",
     "text": [
      "0.8275093502108699\n",
      "{'criterion': 'mse', 'max_depth': 10, 'min_samples_leaf': 3, 'min_samples_split': 3, 'n_estimators': 500}\n"
     ]
    }
   ],
   "source": [
    "print(gs.best_score_)\n",
    "print(gs.best_params_)\n",
    " "
   ]
  },
  {
   "cell_type": "code",
   "execution_count": 44,
   "metadata": {
    "_cell_guid": "99b5559a-5612-0d89-23ce-747cca5ecd0b",
    "_uuid": "4b29dc9da4f00ee53c931258ce641db9f747847d"
   },
   "outputs": [
    {
     "name": "stdout",
     "output_type": "stream",
     "text": [
      "Score: 0.83\n"
     ]
    }
   ],
   "source": [
    "bp = gs.best_params_\n",
    "forest = RandomForestRegressor(criterion=bp['criterion'],\n",
    "                              min_samples_leaf=bp['min_samples_leaf'],\n",
    "                              min_samples_split=bp['min_samples_split'],\n",
    "                              max_depth=bp['max_depth'],\n",
    "                              n_estimators=bp['n_estimators'])\n",
    "forest.fit(X_train, y_train)\n",
    "# Explained variance score: 1 is perfect prediction\n",
    "print('Score: %.2f' % forest.score(X_val, y_val))\n"
   ]
  },
  {
   "cell_type": "code",
   "execution_count": 45,
   "metadata": {},
   "outputs": [],
   "source": [
    "y_predict1=gs.predict(X_val)"
   ]
  },
  {
   "cell_type": "code",
   "execution_count": 41,
   "metadata": {},
   "outputs": [
    {
     "data": {
      "text/plain": [
       "0.8278058166337326"
      ]
     },
     "execution_count": 41,
     "metadata": {},
     "output_type": "execute_result"
    }
   ],
   "source": [
    "from sklearn.metrics import r2_score\n",
    "r2_score(y_val,y_predict1)"
   ]
  },
  {
   "cell_type": "code",
   "execution_count": null,
   "metadata": {},
   "outputs": [],
   "source": []
  }
 ],
 "metadata": {
  "_change_revision": 0,
  "_is_fork": false,
  "kernelspec": {
   "display_name": "Python 3",
   "language": "python",
   "name": "python3"
  },
  "language_info": {
   "codemirror_mode": {
    "name": "ipython",
    "version": 3
   },
   "file_extension": ".py",
   "mimetype": "text/x-python",
   "name": "python",
   "nbconvert_exporter": "python",
   "pygments_lexer": "ipython3",
   "version": "3.6.5"
  }
 },
 "nbformat": 4,
 "nbformat_minor": 1
}
